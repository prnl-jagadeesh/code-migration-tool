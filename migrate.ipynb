{
 "cells": [
  {
   "cell_type": "code",
   "execution_count": 6,
   "metadata": {},
   "outputs": [],
   "source": [
    "import os\n",
    "import openai\n",
    "from dotenv import load_dotenv\n",
    "\n",
    "load_dotenv()\n",
    "openai.api_key = os.getenv(\"OPENAI_API_KEY\")\n",
    "\n",
    "extracted_dir = \"extracted\"\n",
    "migrated_dir = \"migrated\"\n",
    "os.makedirs(migrated_dir, exist_ok=True)\n",
    "\n",
    "files = [f for f in os.listdir(extracted_dir) if f.endswith(\".js\")]\n"
   ]
  },
  {
   "cell_type": "code",
   "execution_count": 7,
   "metadata": {},
   "outputs": [],
   "source": [
    "def migrate_js_to_tsx(file_path):\n",
    "    with open(file_path, \"r\") as f:\n",
    "        js_code = f.read()\n",
    "\n",
    "    prompt = (\n",
    "        \"Convert this React JavaScript component to TypeScript (.tsx). \"\n",
    "        \"Add prop/state/event types. \"\n",
    "        \"Return only the code. Do not include explanations or markdown.\\n\\n\"\n",
    "        f\"{js_code}\"\n",
    "    )\n",
    "\n",
    "    response = openai.ChatCompletion.create(\n",
    "        model=\"gpt-4\",\n",
    "        messages=[\n",
    "            {\"role\": \"system\", \"content\": \"You are a code migration assistant.\"},\n",
    "            {\"role\": \"user\", \"content\": prompt}\n",
    "        ],\n",
    "        temperature=0\n",
    "    )\n",
    "\n",
    "    return response.choices[0].message.content.strip()\n"
   ]
  },
  {
   "cell_type": "code",
   "execution_count": 8,
   "metadata": {},
   "outputs": [
    {
     "name": "stdout",
     "output_type": "stream",
     "text": [
      "✅ Migrated: sample_Dashboard.js → sample_Dashboard.tsx\n",
      "✅ Migrated: sample_handleSearch.js → sample_handleSearch.tsx\n",
      "✅ Migrated: sample_UserSummaryCard.js → sample_UserSummaryCard.tsx\n"
     ]
    }
   ],
   "source": [
    "for file in files:\n",
    "    input_path = os.path.join(extracted_dir, file)\n",
    "    tsx_code = migrate_js_to_tsx(input_path)\n",
    "\n",
    "    output_file = file.replace(\".js\", \".tsx\")\n",
    "    output_path = os.path.join(migrated_dir, output_file)\n",
    "\n",
    "    with open(output_path, \"w\") as out:\n",
    "        out.write(tsx_code)\n",
    "\n",
    "    print(f\"✅ Migrated: {file} → {output_file}\")"
   ]
  }
 ],
 "metadata": {
  "kernelspec": {
   "display_name": "Python 3",
   "language": "python",
   "name": "python3"
  },
  "language_info": {
   "codemirror_mode": {
    "name": "ipython",
    "version": 3
   },
   "file_extension": ".py",
   "mimetype": "text/x-python",
   "name": "python",
   "nbconvert_exporter": "python",
   "pygments_lexer": "ipython3",
   "version": "3.10.12"
  }
 },
 "nbformat": 4,
 "nbformat_minor": 2
}
